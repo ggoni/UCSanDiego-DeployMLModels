{
 "cells": [
  {
   "cell_type": "markdown",
   "metadata": {},
   "source": [
    "# Latent Factor-Based Recommender System\n",
    "\n",
    "\n",
    "In this notebook I will use basic Latent Factor Models, to predict movie ratings"
   ]
  },
  {
   "cell_type": "markdown",
   "metadata": {},
   "source": [
    "## A) Choosing, cleaning and tidying up Data\n",
    "\n",
    "For this activity I will be using a **small version** of the MovieLens dataset.\n",
    "Note that according to the page:\n",
    "\n",
    ">This dataset (ml-latest-small) describes 5-star rating and free-text tagging activity from MovieLens, a movie recommendation service. It contains 100836 ratings and 3683 tag applications across 9742 movies. These data were created by 610 users between March 29, 1996 and September 24, 2018. This dataset was generated on September 26, 2018.\n",
    "Users were selected at random for inclusion. All selected users had rated at least 20 movies. No demographic information is included. Each user is represented by an id, and no other information is provided.\n",
    "The data are contained in the files links.csv, movies.csv, ratings.csv and tags.csv. More details about the contents and use of all these files follows.\n",
    "This is a development dataset. As such, it may change over time and is not an appropriate dataset for shared research results. See available benchmark datasets if that is your intent.\n",
    "\n",
    "\n",
    "Further details can be found [here](https://grouplens.org/datasets/movielens/)."
   ]
  },
  {
   "cell_type": "code",
   "execution_count": 1,
   "metadata": {},
   "outputs": [],
   "source": [
    "import pandas as pd\n",
    "from collections import defaultdict\n",
    "import scipy\n",
    "import scipy.optimize\n",
    "import numpy\n",
    "import random\n",
    "import csv"
   ]
  },
  {
   "cell_type": "markdown",
   "metadata": {},
   "source": [
    "From this site, we will use both ```ratings``` and ```movies``` datasets (both in csv), and join them for a full picture. For simplicity, we will use the Pandas library."
   ]
  },
  {
   "cell_type": "code",
   "execution_count": 2,
   "metadata": {},
   "outputs": [],
   "source": [
    "ratings=pd.read_csv('ratings.csv')"
   ]
  },
  {
   "cell_type": "markdown",
   "metadata": {},
   "source": [
    "I will check the number of total reviews:"
   ]
  },
  {
   "cell_type": "code",
   "execution_count": 3,
   "metadata": {},
   "outputs": [
    {
     "data": {
      "text/plain": [
       "100836"
      ]
     },
     "execution_count": 3,
     "metadata": {},
     "output_type": "execute_result"
    }
   ],
   "source": [
    "len(ratings)"
   ]
  },
  {
   "cell_type": "code",
   "execution_count": 4,
   "metadata": {},
   "outputs": [
    {
     "data": {
      "text/html": [
       "<div>\n",
       "<style scoped>\n",
       "    .dataframe tbody tr th:only-of-type {\n",
       "        vertical-align: middle;\n",
       "    }\n",
       "\n",
       "    .dataframe tbody tr th {\n",
       "        vertical-align: top;\n",
       "    }\n",
       "\n",
       "    .dataframe thead th {\n",
       "        text-align: right;\n",
       "    }\n",
       "</style>\n",
       "<table border=\"1\" class=\"dataframe\">\n",
       "  <thead>\n",
       "    <tr style=\"text-align: right;\">\n",
       "      <th></th>\n",
       "      <th>userId</th>\n",
       "      <th>movieId</th>\n",
       "      <th>rating</th>\n",
       "      <th>timestamp</th>\n",
       "    </tr>\n",
       "  </thead>\n",
       "  <tbody>\n",
       "    <tr>\n",
       "      <th>0</th>\n",
       "      <td>1</td>\n",
       "      <td>1</td>\n",
       "      <td>4.0</td>\n",
       "      <td>964982703</td>\n",
       "    </tr>\n",
       "    <tr>\n",
       "      <th>1</th>\n",
       "      <td>1</td>\n",
       "      <td>3</td>\n",
       "      <td>4.0</td>\n",
       "      <td>964981247</td>\n",
       "    </tr>\n",
       "    <tr>\n",
       "      <th>2</th>\n",
       "      <td>1</td>\n",
       "      <td>6</td>\n",
       "      <td>4.0</td>\n",
       "      <td>964982224</td>\n",
       "    </tr>\n",
       "    <tr>\n",
       "      <th>3</th>\n",
       "      <td>1</td>\n",
       "      <td>47</td>\n",
       "      <td>5.0</td>\n",
       "      <td>964983815</td>\n",
       "    </tr>\n",
       "    <tr>\n",
       "      <th>4</th>\n",
       "      <td>1</td>\n",
       "      <td>50</td>\n",
       "      <td>5.0</td>\n",
       "      <td>964982931</td>\n",
       "    </tr>\n",
       "  </tbody>\n",
       "</table>\n",
       "</div>"
      ],
      "text/plain": [
       "   userId  movieId  rating  timestamp\n",
       "0       1        1     4.0  964982703\n",
       "1       1        3     4.0  964981247\n",
       "2       1        6     4.0  964982224\n",
       "3       1       47     5.0  964983815\n",
       "4       1       50     5.0  964982931"
      ]
     },
     "execution_count": 4,
     "metadata": {},
     "output_type": "execute_result"
    }
   ],
   "source": [
    "ratings.head()"
   ]
  },
  {
   "cell_type": "code",
   "execution_count": 5,
   "metadata": {},
   "outputs": [
    {
     "data": {
      "text/html": [
       "<div>\n",
       "<style scoped>\n",
       "    .dataframe tbody tr th:only-of-type {\n",
       "        vertical-align: middle;\n",
       "    }\n",
       "\n",
       "    .dataframe tbody tr th {\n",
       "        vertical-align: top;\n",
       "    }\n",
       "\n",
       "    .dataframe thead th {\n",
       "        text-align: right;\n",
       "    }\n",
       "</style>\n",
       "<table border=\"1\" class=\"dataframe\">\n",
       "  <thead>\n",
       "    <tr style=\"text-align: right;\">\n",
       "      <th></th>\n",
       "      <th></th>\n",
       "      <th>rating</th>\n",
       "      <th>timestamp</th>\n",
       "    </tr>\n",
       "    <tr>\n",
       "      <th>userId</th>\n",
       "      <th>movieId</th>\n",
       "      <th></th>\n",
       "      <th></th>\n",
       "    </tr>\n",
       "  </thead>\n",
       "  <tbody>\n",
       "    <tr>\n",
       "      <th rowspan=\"5\" valign=\"top\">1</th>\n",
       "      <th>1</th>\n",
       "      <td>4.0</td>\n",
       "      <td>964982703</td>\n",
       "    </tr>\n",
       "    <tr>\n",
       "      <th>3</th>\n",
       "      <td>4.0</td>\n",
       "      <td>964981247</td>\n",
       "    </tr>\n",
       "    <tr>\n",
       "      <th>6</th>\n",
       "      <td>4.0</td>\n",
       "      <td>964982224</td>\n",
       "    </tr>\n",
       "    <tr>\n",
       "      <th>47</th>\n",
       "      <td>5.0</td>\n",
       "      <td>964983815</td>\n",
       "    </tr>\n",
       "    <tr>\n",
       "      <th>50</th>\n",
       "      <td>5.0</td>\n",
       "      <td>964982931</td>\n",
       "    </tr>\n",
       "  </tbody>\n",
       "</table>\n",
       "</div>"
      ],
      "text/plain": [
       "                rating  timestamp\n",
       "userId movieId                   \n",
       "1      1           4.0  964982703\n",
       "       3           4.0  964981247\n",
       "       6           4.0  964982224\n",
       "       47          5.0  964983815\n",
       "       50          5.0  964982931"
      ]
     },
     "execution_count": 5,
     "metadata": {},
     "output_type": "execute_result"
    }
   ],
   "source": [
    "ratings.set_index(['userId','movieId']).head()"
   ]
  },
  {
   "cell_type": "markdown",
   "metadata": {},
   "source": [
    "¿Could there be any movie reviewed more than once by a particular user? I will find out:"
   ]
  },
  {
   "cell_type": "code",
   "execution_count": 6,
   "metadata": {},
   "outputs": [
    {
     "data": {
      "text/plain": [
       "0"
      ]
     },
     "execution_count": 6,
     "metadata": {},
     "output_type": "execute_result"
    }
   ],
   "source": [
    "len(ratings.set_index(['userId','movieId']).index.unique())-len(ratings.index.unique())"
   ]
  },
  {
   "cell_type": "markdown",
   "metadata": {},
   "source": [
    "Which means there are no repetition in ```userId``` / ```movieId```combinations"
   ]
  },
  {
   "cell_type": "code",
   "execution_count": 7,
   "metadata": {},
   "outputs": [],
   "source": [
    "movies=pd.read_csv('movies.csv')"
   ]
  },
  {
   "cell_type": "code",
   "execution_count": 8,
   "metadata": {},
   "outputs": [
    {
     "data": {
      "text/html": [
       "<div>\n",
       "<style scoped>\n",
       "    .dataframe tbody tr th:only-of-type {\n",
       "        vertical-align: middle;\n",
       "    }\n",
       "\n",
       "    .dataframe tbody tr th {\n",
       "        vertical-align: top;\n",
       "    }\n",
       "\n",
       "    .dataframe thead th {\n",
       "        text-align: right;\n",
       "    }\n",
       "</style>\n",
       "<table border=\"1\" class=\"dataframe\">\n",
       "  <thead>\n",
       "    <tr style=\"text-align: right;\">\n",
       "      <th></th>\n",
       "      <th>movieId</th>\n",
       "      <th>title</th>\n",
       "      <th>genres</th>\n",
       "    </tr>\n",
       "  </thead>\n",
       "  <tbody>\n",
       "    <tr>\n",
       "      <th>0</th>\n",
       "      <td>1</td>\n",
       "      <td>Toy Story (1995)</td>\n",
       "      <td>Adventure|Animation|Children|Comedy|Fantasy</td>\n",
       "    </tr>\n",
       "    <tr>\n",
       "      <th>1</th>\n",
       "      <td>2</td>\n",
       "      <td>Jumanji (1995)</td>\n",
       "      <td>Adventure|Children|Fantasy</td>\n",
       "    </tr>\n",
       "    <tr>\n",
       "      <th>2</th>\n",
       "      <td>3</td>\n",
       "      <td>Grumpier Old Men (1995)</td>\n",
       "      <td>Comedy|Romance</td>\n",
       "    </tr>\n",
       "    <tr>\n",
       "      <th>3</th>\n",
       "      <td>4</td>\n",
       "      <td>Waiting to Exhale (1995)</td>\n",
       "      <td>Comedy|Drama|Romance</td>\n",
       "    </tr>\n",
       "    <tr>\n",
       "      <th>4</th>\n",
       "      <td>5</td>\n",
       "      <td>Father of the Bride Part II (1995)</td>\n",
       "      <td>Comedy</td>\n",
       "    </tr>\n",
       "  </tbody>\n",
       "</table>\n",
       "</div>"
      ],
      "text/plain": [
       "   movieId                               title  \\\n",
       "0        1                    Toy Story (1995)   \n",
       "1        2                      Jumanji (1995)   \n",
       "2        3             Grumpier Old Men (1995)   \n",
       "3        4            Waiting to Exhale (1995)   \n",
       "4        5  Father of the Bride Part II (1995)   \n",
       "\n",
       "                                        genres  \n",
       "0  Adventure|Animation|Children|Comedy|Fantasy  \n",
       "1                   Adventure|Children|Fantasy  \n",
       "2                               Comedy|Romance  \n",
       "3                         Comedy|Drama|Romance  \n",
       "4                                       Comedy  "
      ]
     },
     "execution_count": 8,
     "metadata": {},
     "output_type": "execute_result"
    }
   ],
   "source": [
    "movies.head()"
   ]
  },
  {
   "cell_type": "code",
   "execution_count": 9,
   "metadata": {},
   "outputs": [
    {
     "data": {
      "text/plain": [
       "0"
      ]
     },
     "execution_count": 9,
     "metadata": {},
     "output_type": "execute_result"
    }
   ],
   "source": [
    "len(movies.set_index(['movieId','title']).index.unique())-movies.index.nunique()"
   ]
  },
  {
   "cell_type": "markdown",
   "metadata": {},
   "source": [
    "It seems that there is no redundancy in in ```movieId``` / ```title```combinations. Now we can merge both dataframes, in a new one called ```df```.\n",
    "\n",
    "I am dropping unnecessary features (each film will be identified by its title)."
   ]
  },
  {
   "cell_type": "code",
   "execution_count": 10,
   "metadata": {},
   "outputs": [
    {
     "data": {
      "text/html": [
       "<div>\n",
       "<style scoped>\n",
       "    .dataframe tbody tr th:only-of-type {\n",
       "        vertical-align: middle;\n",
       "    }\n",
       "\n",
       "    .dataframe tbody tr th {\n",
       "        vertical-align: top;\n",
       "    }\n",
       "\n",
       "    .dataframe thead th {\n",
       "        text-align: right;\n",
       "    }\n",
       "</style>\n",
       "<table border=\"1\" class=\"dataframe\">\n",
       "  <thead>\n",
       "    <tr style=\"text-align: right;\">\n",
       "      <th></th>\n",
       "      <th>userId</th>\n",
       "      <th>rating</th>\n",
       "      <th>title</th>\n",
       "    </tr>\n",
       "  </thead>\n",
       "  <tbody>\n",
       "    <tr>\n",
       "      <th>0</th>\n",
       "      <td>1</td>\n",
       "      <td>4.0</td>\n",
       "      <td>Toy Story (1995)</td>\n",
       "    </tr>\n",
       "    <tr>\n",
       "      <th>1</th>\n",
       "      <td>5</td>\n",
       "      <td>4.0</td>\n",
       "      <td>Toy Story (1995)</td>\n",
       "    </tr>\n",
       "    <tr>\n",
       "      <th>2</th>\n",
       "      <td>7</td>\n",
       "      <td>4.5</td>\n",
       "      <td>Toy Story (1995)</td>\n",
       "    </tr>\n",
       "    <tr>\n",
       "      <th>3</th>\n",
       "      <td>15</td>\n",
       "      <td>2.5</td>\n",
       "      <td>Toy Story (1995)</td>\n",
       "    </tr>\n",
       "    <tr>\n",
       "      <th>4</th>\n",
       "      <td>17</td>\n",
       "      <td>4.5</td>\n",
       "      <td>Toy Story (1995)</td>\n",
       "    </tr>\n",
       "  </tbody>\n",
       "</table>\n",
       "</div>"
      ],
      "text/plain": [
       "   userId  rating             title\n",
       "0       1     4.0  Toy Story (1995)\n",
       "1       5     4.0  Toy Story (1995)\n",
       "2       7     4.5  Toy Story (1995)\n",
       "3      15     2.5  Toy Story (1995)\n",
       "4      17     4.5  Toy Story (1995)"
      ]
     },
     "execution_count": 10,
     "metadata": {},
     "output_type": "execute_result"
    }
   ],
   "source": [
    "df = ratings.merge(movies)\n",
    "df.drop(columns=['movieId','timestamp','genres'], inplace = True)\n",
    "df.head()"
   ]
  },
  {
   "cell_type": "markdown",
   "metadata": {},
   "source": [
    "I would like to know how are ratings distributed, so i'll plot an histogram, and obtain some statistics."
   ]
  },
  {
   "cell_type": "code",
   "execution_count": 11,
   "metadata": {},
   "outputs": [
    {
     "data": {
      "image/png": "[encoded data removed]",
      "text/plain": [
       "<Figure size 432x288 with 1 Axes>"
      ]
     },
     "metadata": {
      "needs_background": "light"
     },
     "output_type": "display_data"
    }
   ],
   "source": [
    "df.rating.hist().set_title('Histogram');"
   ]
  },
  {
   "cell_type": "markdown",
   "metadata": {},
   "source": [
    "It seems like there is some kind of \"bimodality\" in ratings"
   ]
  },
  {
   "cell_type": "code",
   "execution_count": 12,
   "metadata": {},
   "outputs": [
    {
     "data": {
      "text/plain": [
       "count    100836.000000\n",
       "mean          3.501557\n",
       "std           1.042529\n",
       "min           0.500000\n",
       "25%           3.000000\n",
       "50%           3.500000\n",
       "75%           4.000000\n",
       "max           5.000000\n",
       "Name: rating, dtype: float64"
      ]
     },
     "execution_count": 12,
     "metadata": {},
     "output_type": "execute_result"
    }
   ],
   "source": [
    "df.rating.describe()"
   ]
  },
  {
   "cell_type": "code",
   "execution_count": 13,
   "metadata": {},
   "outputs": [
    {
     "data": {
      "image/png": "[encoded data removed]",
      "text/plain": [
       "<Figure size 432x288 with 1 Axes>"
      ]
     },
     "metadata": {
      "needs_background": "light"
     },
     "output_type": "display_data"
    }
   ],
   "source": [
    "df_plot=df.groupby(['userId'])['rating'].mean().reset_index()\n",
    "df_plot.plot(kind='scatter',x = 'userId', y = 'rating', alpha=0.4,title='Mean Rating by user');"
   ]
  },
  {
   "cell_type": "code",
   "execution_count": 14,
   "metadata": {},
   "outputs": [
    {
     "data": {
      "text/plain": [
       "4.0    26818\n",
       "3.0    20047\n",
       "5.0    13211\n",
       "3.5    13136\n",
       "4.5     8551\n",
       "2.0     7551\n",
       "2.5     5550\n",
       "1.0     2811\n",
       "1.5     1791\n",
       "0.5     1370\n",
       "Name: rating, dtype: int64"
      ]
     },
     "execution_count": 14,
     "metadata": {},
     "output_type": "execute_result"
    }
   ],
   "source": [
    "df.rating.value_counts(sort=True)"
   ]
  },
  {
   "cell_type": "markdown",
   "metadata": {},
   "source": [
    "By observation, I can conclude two peculiar issues in this dataset:\n",
    "- Ratings are not necessarily integer numbers\n",
    "- Ratings under 2 are very rare: ratings are slightly biased towards good ratings"
   ]
  },
  {
   "cell_type": "markdown",
   "metadata": {},
   "source": [
    "¿Is there any missing or zero value?"
   ]
  },
  {
   "cell_type": "code",
   "execution_count": 15,
   "metadata": {},
   "outputs": [
    {
     "data": {
      "text/plain": [
       "userId    0\n",
       "rating    0\n",
       "title     0\n",
       "dtype: int64"
      ]
     },
     "execution_count": 15,
     "metadata": {},
     "output_type": "execute_result"
    }
   ],
   "source": [
    "df.isna().sum()"
   ]
  },
  {
   "cell_type": "markdown",
   "metadata": {},
   "source": [
    "There are no missing values, so now we write a new file with this merged file (comma separated)."
   ]
  },
  {
   "cell_type": "code",
   "execution_count": 16,
   "metadata": {},
   "outputs": [],
   "source": [
    "df.to_csv('movieReviews.csv',index=False)"
   ]
  },
  {
   "cell_type": "markdown",
   "metadata": {},
   "source": [
    "From this file, I will obtain:\n",
    "- a ```dataset``` list\n",
    "- a ```ReviewsPerUser``` dictionary\n",
    "- a ```ReviewsPermovie``` dictionary"
   ]
  },
  {
   "cell_type": "code",
   "execution_count": 17,
   "metadata": {},
   "outputs": [],
   "source": [
    "dataset = []\n",
    "with open('movieReviews.csv') as f:\n",
    "    reader = csv.DictReader(f)\n",
    "    for row in reader:\n",
    "        row['rating'] = float(row['rating'])\n",
    "        dataset.append(row)"
   ]
  },
  {
   "cell_type": "code",
   "execution_count": 18,
   "metadata": {},
   "outputs": [],
   "source": [
    "#We will need these dictionaries down below, Lets create them now\n",
    "reviewsPerUser = defaultdict(list)\n",
    "reviewsPerMovie = defaultdict(list)\n",
    "\n",
    "for d in dataset:\n",
    "    user,movie = d['userId'], d['title']\n",
    "    reviewsPerUser[user].append(d)\n",
    "    reviewsPerMovie[movie].append(d)"
   ]
  },
  {
   "cell_type": "markdown",
   "metadata": {},
   "source": [
    "Some examples:"
   ]
  },
  {
   "cell_type": "code",
   "execution_count": 19,
   "metadata": {},
   "outputs": [
    {
     "data": {
      "text/plain": [
       "OrderedDict([('userId', '314'), ('rating', 3.0), ('title', 'Batman (1989)')])"
      ]
     },
     "execution_count": 19,
     "metadata": {},
     "output_type": "execute_result"
    }
   ],
   "source": [
    "dataset[4219]"
   ]
  },
  {
   "cell_type": "markdown",
   "metadata": {},
   "source": [
    "¿Which movies has the ```userId``` 325 reviewed?"
   ]
  },
  {
   "cell_type": "code",
   "execution_count": 20,
   "metadata": {},
   "outputs": [
    {
     "data": {
      "text/plain": [
       "[OrderedDict([('userId', '325'), ('rating', 4.0), ('title', 'Heat (1995)')]),\n",
       " OrderedDict([('userId', '325'), ('rating', 3.0), ('title', 'Clerks (1994)')]),\n",
       " OrderedDict([('userId', '325'),\n",
       "              ('rating', 5.0),\n",
       "              ('title', 'Ed Wood (1994)')]),\n",
       " OrderedDict([('userId', '325'),\n",
       "              ('rating', 5.0),\n",
       "              ('title', 'Pulp Fiction (1994)')]),\n",
       " OrderedDict([('userId', '325'),\n",
       "              ('rating', 2.0),\n",
       "              ('title', 'Forrest Gump (1994)')]),\n",
       " OrderedDict([('userId', '325'),\n",
       "              ('rating', 5.0),\n",
       "              ('title', 'Silence of the Lambs, The (1991)')]),\n",
       " OrderedDict([('userId', '325'),\n",
       "              ('rating', 1.0),\n",
       "              ('title', 'Twister (1996)')]),\n",
       " OrderedDict([('userId', '325'),\n",
       "              ('rating', 4.0),\n",
       "              ('title', 'Wizard of Oz, The (1939)')]),\n",
       " OrderedDict([('userId', '325'),\n",
       "              ('rating', 3.0),\n",
       "              ('title', 'Bedknobs and Broomsticks (1971)')]),\n",
       " OrderedDict([('userId', '325'),\n",
       "              ('rating', 5.0),\n",
       "              ('title', 'Platoon (1986)')])]"
      ]
     },
     "execution_count": 20,
     "metadata": {},
     "output_type": "execute_result"
    }
   ],
   "source": [
    "reviewsPerUser['325'][:10]"
   ]
  },
  {
   "cell_type": "markdown",
   "metadata": {},
   "source": [
    "¿What ratings has the *Pulp Fiction* obtained?"
   ]
  },
  {
   "cell_type": "code",
   "execution_count": 21,
   "metadata": {},
   "outputs": [
    {
     "data": {
      "text/plain": [
       "[OrderedDict([('userId', '1'),\n",
       "              ('rating', 3.0),\n",
       "              ('title', 'Pulp Fiction (1994)')]),\n",
       " OrderedDict([('userId', '4'),\n",
       "              ('rating', 1.0),\n",
       "              ('title', 'Pulp Fiction (1994)')]),\n",
       " OrderedDict([('userId', '5'),\n",
       "              ('rating', 5.0),\n",
       "              ('title', 'Pulp Fiction (1994)')]),\n",
       " OrderedDict([('userId', '6'),\n",
       "              ('rating', 2.0),\n",
       "              ('title', 'Pulp Fiction (1994)')]),\n",
       " OrderedDict([('userId', '8'),\n",
       "              ('rating', 4.0),\n",
       "              ('title', 'Pulp Fiction (1994)')]),\n",
       " OrderedDict([('userId', '10'),\n",
       "              ('rating', 1.0),\n",
       "              ('title', 'Pulp Fiction (1994)')]),\n",
       " OrderedDict([('userId', '14'),\n",
       "              ('rating', 3.0),\n",
       "              ('title', 'Pulp Fiction (1994)')]),\n",
       " OrderedDict([('userId', '15'),\n",
       "              ('rating', 4.0),\n",
       "              ('title', 'Pulp Fiction (1994)')]),\n",
       " OrderedDict([('userId', '16'),\n",
       "              ('rating', 3.0),\n",
       "              ('title', 'Pulp Fiction (1994)')]),\n",
       " OrderedDict([('userId', '17'),\n",
       "              ('rating', 5.0),\n",
       "              ('title', 'Pulp Fiction (1994)')])]"
      ]
     },
     "execution_count": 21,
     "metadata": {},
     "output_type": "execute_result"
    }
   ],
   "source": [
    "reviewsPerMovie['Pulp Fiction (1994)'][:10]"
   ]
  },
  {
   "cell_type": "markdown",
   "metadata": {},
   "source": [
    "## B) Modelling a First Latent Factor-Based Recomender\n",
    "\n",
    "\n",
    "As a first step, I'll have to  build some aditional data structures to store the variables and parameters.\n",
    "\n",
    "After that I'll use gradient descent to implement a latent-factor model (technically, ML)."
   ]
  },
  {
   "cell_type": "code",
   "execution_count": 22,
   "metadata": {},
   "outputs": [],
   "source": [
    "#Length for reviews, different users and different movies\n",
    "N = len(dataset)\n",
    "nUsers = len(reviewsPerUser)\n",
    "nMovies = len(reviewsPerMovie)\n",
    "\n",
    "#I will need a list for the keys\n",
    "users = list(reviewsPerUser.keys())\n",
    "movies = list(reviewsPerMovie.keys())\n",
    "\n",
    "#This is our first estimation, just a mean rating\n",
    "alpha = sum([d['rating'] for d in dataset]) / len(dataset)\n",
    "\n",
    "#Create another two defaultdict's, this time being float types because they are prediction based\n",
    "userBiases = defaultdict(float)\n",
    "movieBiases = defaultdict(float)\n",
    "\n",
    "#Mean squared error will give me a sense of how wrong am I. This metric should be minimized.\n",
    "def MSE(predictions, labels):\n",
    "    diffs = [(x-y)**2 for x,y in zip(predictions,labels)]\n",
    "    return sum(diffs) / len(diffs)"
   ]
  },
  {
   "cell_type": "markdown",
   "metadata": {},
   "source": [
    "A first prediction function will use: \n",
    "- A global quantity (alpha)\n",
    "- A user offset (beta_user) \n",
    "- A movie offset (beta_movie)"
   ]
  },
  {
   "cell_type": "code",
   "execution_count": 23,
   "metadata": {},
   "outputs": [],
   "source": [
    "def prediction(user, movie):\n",
    "    return alpha + userBiases[user] + movieBiases[movie]"
   ]
  },
  {
   "cell_type": "markdown",
   "metadata": {},
   "source": [
    "Note that gradient descent, which I'll use to obatin optimal parameters, require some previous operations. Thus, we'll need to \"unpack\" some vectors / matrices."
   ]
  },
  {
   "cell_type": "code",
   "execution_count": 24,
   "metadata": {},
   "outputs": [],
   "source": [
    "def unpack(theta):\n",
    "    global alpha\n",
    "    global userBiases\n",
    "    global movieBiases\n",
    "    alpha = theta[0]\n",
    "    userBiases = dict(zip(users, theta[1:nUsers+1]))\n",
    "    movieBiases = dict(zip(movies, theta[1+nUsers:]))"
   ]
  },
  {
   "cell_type": "markdown",
   "metadata": {},
   "source": [
    "The \"cost\" function to be minimized, will allow me to get optimal values for MSE."
   ]
  },
  {
   "cell_type": "code",
   "execution_count": 25,
   "metadata": {},
   "outputs": [],
   "source": [
    "def cost(theta, labels, lamb):\n",
    "    unpack(theta)\n",
    "    predictions = [prediction(d['userId'], d['title']) for d in dataset]\n",
    "    cost = MSE(predictions, labels)\n",
    "    print(\"MSE = \" + str(cost))\n",
    "    for u in userBiases: #I don't want the biases to be very high!\n",
    "        cost += lamb*userBiases[u]**2\n",
    "    for i in movieBiases:#I don't want the biases to be very high!\n",
    "        cost += lamb*movieBiases[i]**2\n",
    "    return cost"
   ]
  },
  {
   "cell_type": "markdown",
   "metadata": {},
   "source": [
    "This derivative function is based on the slides for the course (check slide 112 in the pdf provided as sumplementary material)"
   ]
  },
  {
   "cell_type": "code",
   "execution_count": 26,
   "metadata": {},
   "outputs": [],
   "source": [
    "def derivative(theta, labels, lamb):\n",
    "    unpack(theta)\n",
    "    N = len(dataset)\n",
    "    dalpha = 0\n",
    "    dUserBiases = defaultdict(float)\n",
    "    dmovieBiases = defaultdict(float)\n",
    "    for d in dataset:\n",
    "        u,i = d['userId'], d['title']\n",
    "        pred = prediction(u, i)\n",
    "        diff = pred - d['rating']\n",
    "        dalpha += 2/N*diff\n",
    "        dUserBiases[u] += 2/N*diff\n",
    "        dmovieBiases[i] += 2/N*diff\n",
    "    for u in userBiases:\n",
    "        dUserBiases[u] += 2*lamb*userBiases[u]\n",
    "    for i in movieBiases:\n",
    "        dmovieBiases[i] += 2*lamb*movieBiases[i]\n",
    "    dtheta = [dalpha] + [dUserBiases[u] for u in users] + [dmovieBiases[i] for i in movies]\n",
    "    return numpy.array(dtheta)"
   ]
  },
  {
   "cell_type": "markdown",
   "metadata": {},
   "source": [
    "An obvious baseline is:"
   ]
  },
  {
   "cell_type": "code",
   "execution_count": 27,
   "metadata": {},
   "outputs": [
    {
     "data": {
      "text/plain": [
       "1.086856435732857"
      ]
     },
     "execution_count": 27,
     "metadata": {},
     "output_type": "execute_result"
    }
   ],
   "source": [
    "alwaysPredictMean = [alpha for d in dataset]\n",
    "labels = [d['rating'] for d in dataset]\n",
    "\n",
    "MSE(alwaysPredictMean, labels)"
   ]
  },
  {
   "cell_type": "markdown",
   "metadata": {},
   "source": [
    "Now, we can use gradient descent, as implemented by scipy (details in [the documentation](https://docs.scipy.org/doc/scipy/reference/generated/scipy.optimize.fmin_l_bfgs_b.html)\n",
    "This version of gradient descent uses:\n",
    "\n",
    "- [X] A cost function\n",
    "- [x] Initial parameter values, obtained as indicated\n",
    "- [x] A specific derivative function\n",
    "- [x] Real Labels and a regularization factor\n",
    "\n",
    "Note that we will optimize, obtaining iteratively:"
   ]
  },
  {
   "cell_type": "code",
   "execution_count": 28,
   "metadata": {},
   "outputs": [
    {
     "name": "stdout",
     "output_type": "stream",
     "text": [
      "MSE = 1.086856435732857\n",
      "MSE = 1.0247105479208047\n",
      "MSE = 1.7799544604195812\n",
      "MSE = 1.009523267085557\n",
      "MSE = 0.9691478769518045\n",
      "MSE = 0.9620957086004421\n",
      "MSE = 0.937158342421175\n",
      "MSE = 0.8781000472643767\n",
      "MSE = 0.8554233681360223\n",
      "MSE = 0.828193413052151\n",
      "MSE = 0.8210706785544539\n",
      "MSE = 0.8228478419681241\n",
      "MSE = 0.8225103201974705\n",
      "MSE = 0.8202223530860037\n",
      "MSE = 0.8190044156283736\n",
      "MSE = 0.8180993605477793\n",
      "MSE = 0.8178628257659988\n",
      "MSE = 0.8176503974216297\n",
      "MSE = 0.8178123086923819\n",
      "MSE = 0.8177188819142455\n",
      "MSE = 0.817719326570152\n",
      "MSE = 0.8177261631261439\n",
      "MSE = 0.8176775976618196\n",
      "MSE = 0.817655607836492\n",
      "MSE = 0.8175985452666502\n",
      "MSE = 0.8176276306437396\n",
      "MSE = 0.8176312578215252\n",
      "MSE = 0.8176331039583897\n",
      "MSE = 0.8176326133157941\n",
      "MSE = 0.817631123730643\n",
      "MSE = 0.8176355527014733\n",
      "MSE = 0.8176320084701069\n",
      "MSE = 0.8176325412590711\n",
      "MSE = 0.8176332369810259\n",
      "MSE = 0.8176337072336108\n"
     ]
    },
    {
     "data": {
      "text/plain": [
       "(array([ 3.55072556e+00,  5.20438731e-01, -5.81680315e-03, ...,\n",
       "        -6.40744844e-03, -1.50720319e-03, -1.50720319e-03]),\n",
       " 0.8804652904133209,\n",
       " {'grad': array([-5.90920565e-06, -1.44000334e-06, -8.58999573e-08, ...,\n",
       "          2.27426585e-08,  3.33243402e-09,  3.33243402e-09]),\n",
       "  'task': b'CONVERGENCE: NORM_OF_PROJECTED_GRADIENT_<=_PGTOL',\n",
       "  'funcalls': 35,\n",
       "  'nit': 29,\n",
       "  'warnflag': 0})"
      ]
     },
     "execution_count": 28,
     "metadata": {},
     "output_type": "execute_result"
    }
   ],
   "source": [
    "scipy.optimize.fmin_l_bfgs_b(cost, [alpha] + [0.0]*(nUsers+nMovies),\n",
    "                             derivative, args = (labels, 0.001))"
   ]
  },
  {
   "cell_type": "markdown",
   "metadata": {},
   "source": [
    "Note that I have a smaller MSE than before (0.8176 vs 1.086856435732857)."
   ]
  },
  {
   "cell_type": "markdown",
   "metadata": {},
   "source": [
    "## C) Obtaining a definitive Latent Factor Model"
   ]
  },
  {
   "cell_type": "markdown",
   "metadata": {},
   "source": [
    "For each user and movie we could have an ideally low dimensional descriptor of dimension K. For simplicity, we will use 2 (This could be easily interpretable using geometry)."
   ]
  },
  {
   "cell_type": "code",
   "execution_count": 29,
   "metadata": {},
   "outputs": [],
   "source": [
    "userBiases = defaultdict(float)\n",
    "movieBiases = defaultdict(float)\n",
    "userGamma = {}\n",
    "movieGamma = {}\n",
    "\n",
    "K = 2"
   ]
  },
  {
   "cell_type": "code",
   "execution_count": 30,
   "metadata": {},
   "outputs": [],
   "source": [
    "for u in reviewsPerUser:\n",
    "    userGamma[u] = [random.random() * 0.1 - 0.05 for k in range(K)]\n",
    "    \n",
    "for i in reviewsPerMovie:\n",
    "    movieGamma[i] = [random.random() * 0.1 - 0.05 for k in range(K)]"
   ]
  },
  {
   "cell_type": "markdown",
   "metadata": {},
   "source": [
    "The rest of the previous functions are almost the same that in the previous case"
   ]
  },
  {
   "cell_type": "code",
   "execution_count": 31,
   "metadata": {},
   "outputs": [],
   "source": [
    "def unpack(theta):\n",
    "    global alpha\n",
    "    global userBiases\n",
    "    global movieBiases\n",
    "    global userGamma\n",
    "    global movieGamma\n",
    "    index = 0\n",
    "    alpha = theta[index]\n",
    "    index += 1\n",
    "    userBiases = dict(zip(users, theta[index:index+nUsers]))\n",
    "    index += nUsers\n",
    "    movieBiases = dict(zip(movies, theta[index:index+nMovies]))\n",
    "    index += nMovies\n",
    "    for u in users:\n",
    "        userGamma[u] = theta[index:index+K]\n",
    "        index += K\n",
    "    for i in movies:\n",
    "        movieGamma[i] = theta[index:index+K]\n",
    "        index += K"
   ]
  },
  {
   "cell_type": "markdown",
   "metadata": {},
   "source": [
    "Similarly, our cost and derivative functions serve the same role as before, though their implementations are somewhat more complicated."
   ]
  },
  {
   "cell_type": "code",
   "execution_count": 32,
   "metadata": {},
   "outputs": [],
   "source": [
    "def inner(x, y):\n",
    "    return sum([a*b for a,b in zip(x,y)])\n",
    "\n",
    "\n",
    "def prediction(user, movie):\n",
    "    return alpha + userBiases[user] + movieBiases[movie] + inner(userGamma[user], movieGamma[movie])\n",
    "\n",
    "\n",
    "def cost(theta, labels, lamb):\n",
    "    unpack(theta)\n",
    "    predictions = [prediction(d['userId'], d['title']) for d in dataset]\n",
    "    cost = MSE(predictions, labels)\n",
    "    print(\"MSE = \" + str(cost))\n",
    "    for u in users:\n",
    "        cost += lamb*userBiases[u]**2\n",
    "        for k in range(K):\n",
    "            cost += lamb*userGamma[u][k]**2\n",
    "    for i in movies:\n",
    "        cost += lamb*movieBiases[i]**2\n",
    "        for k in range(K):\n",
    "            cost += lamb*movieGamma[i][k]**2\n",
    "    return cost\n",
    "\n",
    "\n",
    "def derivative(theta, labels, lamb):\n",
    "    unpack(theta)\n",
    "    N = len(dataset)\n",
    "    dalpha = 0\n",
    "    dUserBiases = defaultdict(float)\n",
    "    dmovieBiases = defaultdict(float)\n",
    "    dUserGamma = {}\n",
    "    dmovieGamma = {}\n",
    "    for u in reviewsPerUser:\n",
    "        dUserGamma[u] = [0.0 for k in range(K)]\n",
    "    for i in reviewsPerMovie:\n",
    "        dmovieGamma[i] = [0.0 for k in range(K)]\n",
    "    for d in dataset:\n",
    "        u,i = d['userId'], d['title']\n",
    "        pred = prediction(u, i)\n",
    "        diff = pred - d['rating']\n",
    "        dalpha += 2/N*diff\n",
    "        dUserBiases[u] += 2/N*diff\n",
    "        dmovieBiases[i] += 2/N*diff\n",
    "        for k in range(K):\n",
    "            dUserGamma[u][k] += 2/N*movieGamma[i][k]*diff\n",
    "            dmovieGamma[i][k] += 2/N*userGamma[u][k]*diff\n",
    "    for u in userBiases:\n",
    "        dUserBiases[u] += 2*lamb*userBiases[u]\n",
    "        for k in range(K):\n",
    "            dUserGamma[u][k] += 2*lamb*userGamma[u][k]\n",
    "    for i in movieBiases:\n",
    "        dmovieBiases[i] += 2*lamb*movieBiases[i]\n",
    "        for k in range(K):\n",
    "            dmovieGamma[i][k] += 2*lamb*movieGamma[i][k]\n",
    "    dtheta = [dalpha] + [dUserBiases[u] for u in users] + [dmovieBiases[i] for i in movies]\n",
    "    for u in users:\n",
    "        dtheta += dUserGamma[u]\n",
    "    for i in movies:\n",
    "        dtheta += dmovieGamma[i]\n",
    "    return numpy.array(dtheta)"
   ]
  },
  {
   "cell_type": "markdown",
   "metadata": {},
   "source": [
    "Again we optimize using our gradient descent library, and compare to a simple baseline."
   ]
  },
  {
   "cell_type": "code",
   "execution_count": 33,
   "metadata": {},
   "outputs": [
    {
     "name": "stdout",
     "output_type": "stream",
     "text": [
      "MSE = 1.0892854048851497\n",
      "MSE = 1.6118944371896669\n",
      "MSE = 1.0832221235135295\n",
      "MSE = 1.0790145277919552\n",
      "MSE = 1.0629883542048089\n",
      "MSE = 0.929687817934958\n",
      "MSE = 0.8976615151524262\n",
      "MSE = 0.8456043753881812\n",
      "MSE = 0.8294393125711914\n",
      "MSE = 0.8237824803392985\n",
      "MSE = 0.8225554060748077\n",
      "MSE = 0.8195333443522673\n",
      "MSE = 0.817850747101853\n",
      "MSE = 0.8163188149964926\n",
      "MSE = 0.8164101407848874\n",
      "MSE = 0.8167444216244337\n",
      "MSE = 0.8205155699589458\n",
      "MSE = 0.8167743073133593\n",
      "MSE = 0.816999248801452\n",
      "MSE = 0.8170727369584909\n",
      "MSE = 0.8171945739986715\n",
      "MSE = 0.8174105139160824\n",
      "MSE = 0.817631110171848\n",
      "MSE = 0.8174818727723141\n",
      "MSE = 0.8175163953753771\n",
      "MSE = 0.8175409570750906\n",
      "MSE = 0.8175754203121197\n",
      "MSE = 0.8176227865127428\n",
      "MSE = 0.8176218349390068\n",
      "MSE = 0.8176191493689359\n",
      "MSE = 0.8176186885745942\n",
      "MSE = 0.8176207912235087\n"
     ]
    },
    {
     "data": {
      "text/plain": [
       "(array([ 3.55071230e+00,  5.20357975e-01, -5.81694014e-03, ...,\n",
       "        -6.46640190e-06,  6.13549178e-06,  1.35448002e-06]),\n",
       " 0.8804653542505197,\n",
       " {'grad': array([-5.43218356e-06, -2.02396499e-06, -9.42379108e-08, ...,\n",
       "         -1.19398170e-08,  1.06224492e-08,  3.70194643e-09]),\n",
       "  'task': b'CONVERGENCE: NORM_OF_PROJECTED_GRADIENT_<=_PGTOL',\n",
       "  'funcalls': 32,\n",
       "  'nit': 27,\n",
       "  'warnflag': 0})"
      ]
     },
     "execution_count": 33,
     "metadata": {},
     "output_type": "execute_result"
    }
   ],
   "source": [
    "scipy.optimize.fmin_l_bfgs_b(cost, [alpha] + # Initialize alpha\n",
    "                                   [0.0]*(nUsers+nMovies) + # Initialize beta\n",
    "                                   [random.random() * 0.1 - 0.05 for k in range(K*(nUsers+nMovies))],\n",
    "                             derivative, args = (labels, 0.001), maxfun = 50, maxiter = 100)"
   ]
  },
  {
   "cell_type": "markdown",
   "metadata": {},
   "source": [
    "And note that our last MSE is slightly smaller than in the previous version. We set different parameters for ```maxfun``` and ```maxiter```, knowing that time / performance is not an issue."
   ]
  },
  {
   "cell_type": "code",
   "execution_count": null,
   "metadata": {},
   "outputs": [],
   "source": []
  },
  {
   "cell_type": "code",
   "execution_count": null,
   "metadata": {},
   "outputs": [],
   "source": []
  }
 ],
 "metadata": {
  "anaconda-cloud": {},
  "kernelspec": {
   "display_name": "Python 3",
   "language": "python",
   "name": "python3"
  },
  "language_info": {
   "codemirror_mode": {
    "name": "ipython",
    "version": 3
   },
   "file_extension": ".py",
   "mimetype": "text/x-python",
   "name": "python",
   "nbconvert_exporter": "python",
   "pygments_lexer": "ipython3",
   "version": "3.7.6"
  }
 },
 "nbformat": 4,
 "nbformat_minor": 2
}
